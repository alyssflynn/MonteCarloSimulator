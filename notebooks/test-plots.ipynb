{
  "cells": [
    {
      "cell_type": "markdown",
      "source": [
        "# Monte Carlo Endowment Simulation Model\n",
        "### Variables\n",
        "|Input|Variable|Monte Carlo|\n",
        "|--------|-------|\n",
        "|Seed Endoment (M$) – 10|seed_endowment_M \\* 1000000| |\n",
        "|Starting Cash Balance (K$) – 500|starting_cash_K \\* 1000| |\n",
        "|Avg. Monthly User Gain (K) – 10|user_gain_mo_K \\* 1000|?|\n",
        "|Permanent Storage Fee Charged ($) – 10|fee_storage_gb||\n",
        "|Avg. Permanent Storage Per User (GB) – 100|gb_user|?|\n",
        "|Monthly Payroll Expenses (K$) – 120|cost_staff_mo_K\\*1000||\n",
        "|Monthly Hosting Expense per User ($) – 0.1|cost_hosting_mo_user \\* *total_users*||\n",
        "|Total Monthly Storage Cost per GB Uploaded ($) – 0.06|-((1-(rate_storage_decline_yr/12))^(month-1)) \\* cost_storage_mo_gb \\* gb_user \\* *total_users*|?|\n",
        "|User Aquisition Cost ($) – 1|cost_aquisition_user \\* *user_gain*|?|\n",
        "|Yearly Endowment Return (%) – 0.05|rate_endowment_return_yr / 12|y|\n",
        "|Yearly Decline in Storage Cost (Kryder Rate) – 0.15|rate_storage_decline_yr / 12|?|\n",
        "\n",
        "### Formulas\n",
        "##### This Month's Endowment = Last Month's Endowment + (fee per GB of storage per mo. \\* GB per user per mo. \\* user gain per mo.) + net\n",
        "\n",
        "#### E1 = E0\\*\\*r + (storage_fee \\* user_storage \\* user_gain) + net\n",
        "- E0 = this month's endowment\n",
        "- E1 = last month's endowment\n",
        "- storage_fee = fee_storage_gb (fee per GB of storage per mo.) \n",
        "- user_storage = gb_user (GB per user per mo.)\n",
        "- user_gain = user_gain_mo_K\\*1000 (user gain per mo.)\n",
        "- net = income - storage_cost - operating_cost\n",
        "    - income = endowment return\n",
        "    - unrestricted donations = 0\n",
        "\n",
        "#### endowment_return = this month's endowment \\* (rate_endowment_return_yr/12)\\*\\*r \n",
        "- r = periodic rate of return; monte carlo simulator generates theoretical future r values\n"
      ],
      "metadata": {
        "collapsed": false,
        "outputHidden": false,
        "inputHidden": false
      }
    },
    {
      "cell_type": "code",
      "source": [
        "# Code from monte_carlo.py\n",
        "from numpy.random import normal\n",
        "import numpy as np\n",
        "import math\n",
        "import matplotlib.pyplot as plt\n",
        "\n",
        "def monte_carlo_step(previous, rate, stdv):\n",
        "    return previous * math.exp(normal(rate, stdv))\n",
        "\n",
        "def build_monte_carlo_array(previous, rate, stdv, depth):\n",
        "    sim_series = [monte_carlo_step(previous, rate, stdv)]\n",
        "    for i in range(depth):\n",
        "        sim_series.append(monte_carlo_step(sim_series[i], rate, stdv))\n",
        "    return np.array([sim_series])"
      ],
      "outputs": [],
      "execution_count": 80,
      "metadata": {
        "collapsed": false,
        "outputHidden": false,
        "inputHidden": false
      }
    },
    {
      "cell_type": "code",
      "source": [
        "constants = {\n",
        "    'seed_endowment_M': 5,\n",
        "    'starting_cash_K': 0,\n",
        "    'user_gain_mo_K': 10,\n",
        "    'fee_storage_gb': 10,\n",
        "    'gb_user': 100,\n",
        "    'cost_staff_mo_K': 120,\n",
        "    'cost_hosting_mo_user': 0.1,\n",
        "    'cost_hosting_mo_gb': 0.06,\n",
        "    'cost_aquisition_user': 1,\n",
        "    'rate_endowment_return_yr': 0.05,\n",
        "    'rate_storage_decline_yr': 0.15  # kryder rate\n",
        "}\n",
        "print(*constants)\n",
        "\n",
        "def c(seed_endowment_M, starting_cash_K, user_gain_mo_K, fee_storage_gb, gb_user, cost_staff_mo_K, cost_hosting_mo_user, cost_hosting_mo_gb, cost_aquisition_user, rate_endowment_return_yr, rate_storage_decline_yr):\n",
        "    print(seed_endowment_M, starting_cash_K, user_gain_mo_K, fee_storage_gb, gb_user, cost_staff_mo_K, cost_hosting_mo_user, cost_hosting_mo_gb, cost_aquisition_user, rate_endowment_return_yr, rate_storage_decline_yr)\n",
        "c(**constants)"
      ],
      "outputs": [
        {
          "output_type": "stream",
          "name": "stdout",
          "text": [
            "seed_endowment_M starting_cash_K user_gain_mo_K fee_storage_gb gb_user cost_staff_mo_K cost_hosting_mo_user cost_hosting_mo_gb cost_aquisition_user rate_endowment_return_yr rate_storage_decline_yr\n",
            "5 0 10 10 100 120 0.1 0.06 1 0.05 0.15\n"
          ]
        }
      ],
      "execution_count": 81,
      "metadata": {
        "collapsed": false,
        "outputHidden": false,
        "inputHidden": false
      }
    },
    {
      "cell_type": "code",
      "source": [
        "fig = plt.figure()\n",
        "ax = fig.add_subplot(111)\n",
        "\n",
        "# Replicating P&L\n",
        "# class inputs:\n",
        "seed_endowment_M = 5\n",
        "starting_cash_K = 0\n",
        "user_gain_mo_K = 10\n",
        "fee_storage_gb = 10\n",
        "gb_user = 100\n",
        "cost_staff_mo_K = 120\n",
        "cost_hosting_mo_user = 0.1\n",
        "cost_storage_mo_gb = 0.06\n",
        "cost_aquisition_user = 1\n",
        "rate_endowment_return_yr = 0.05 # --> monte\n",
        "rate_storage_decline_yr = 0.15  # kryder rate\n",
        "\n",
        "# ----------------------------------------------------------\n",
        "# Static\n",
        "staff = cost_staff_mo_K*1000\n",
        "user_aquisition = cost_aquisition_user * (user_gain_mo_K*1000)\n",
        "user_gain = user_gain_mo_K*1000\n",
        "donations = 0\n",
        "\n",
        "# Init values\n",
        "# months = range(1,months)\n",
        "total_users = 0\n",
        "endowment = seed_endowment_M*1000000\n",
        "cash_balance = starting_cash_K*1000\n",
        "\n",
        "endowment_return = endowment * (rate_endowment_return_yr/12)\n",
        "income = endowment_return + donations\n",
        "\n",
        "app_hosting = cost_hosting_mo_user * total_users\n",
        "operating_cost = staff + app_hosting + user_aquisition\n",
        "storage_cost = ((1-(rate_storage_decline_yr/12))**(0-1)) \\\n",
        "                    * cost_storage_mo_gb * gb_user * total_users\n",
        "total_expense = operating_cost + storage_cost\n",
        "net = income - total_expense\n",
        "\n",
        "# results = {}\n",
        "months = range(1,47)\n",
        "\n",
        "results = {\n",
        "    'month': [],\n",
        "    'total_expense': [],\n",
        "    'endowment_return': [],\n",
        "    'storage_expense':[],\n",
        "    'operating_expense':[]\n",
        "}\n",
        "\n",
        "for i in months:\n",
        "    total_users += user_gain\n",
        "    endowment += (fee_storage_gb * gb_user * user_gain) + net\n",
        "\n",
        "    endowment_return = endowment * (rate_endowment_return_yr/12)\n",
        "    income = endowment_return + donations\n",
        "\n",
        "    app_hosting = cost_hosting_mo_user * total_users\n",
        "    operating_cost = staff + app_hosting + user_aquisition\n",
        "    storage_cost = ((1-(rate_storage_decline_yr/12))**(i-1)) \\\n",
        "                        * cost_storage_mo_gb * gb_user * total_users\n",
        "    total_expense = operating_cost + storage_cost\n",
        "    net = income - total_expense\n",
        "\n",
        "    results['month'].append(i)\n",
        "    results['total_expense'].append(total_expense)\n",
        "    results['endowment_return'].append(endowment_return)\n",
        "    results['storage_expense'].append(storage_cost)\n",
        "    results['operating_expense'].append(operating_cost)\n",
        "\n",
        "# print(results)\n",
        "\n",
        "ax.plot(results['total_expense'])\n",
        "ax.plot(results['endowment_return'])\n",
        "ax.plot(results['storage_expense'])\n",
        "ax.plot(results['operating_expense'])\n",
        "\n",
        "plt.grid(True, alpha=0.5)\n",
        "plt.title('Growth Model')\n",
        "plt.show()"
      ],
      "outputs": [
        {
          "output_type": "display_data",
          "data": {
            "text/plain": [
              "<matplotlib.figure.Figure at 0x11ed40390>"
            ],
            "image/png": "[encoded data removed]"
          },
          "metadata": {}
        }
      ],
      "execution_count": 103,
      "metadata": {
        "collapsed": false,
        "outputHidden": false,
        "inputHidden": false
      }
    },
    {
      "cell_type": "code",
      "source": [
        "staff = cost_staff_mo_K*1000\n",
        "user_acquisition = cost_aquisition_user*user_gain_mo_K*1000\n",
        "donations = 0\n",
        "results = {}\n",
        "\n",
        "def getValues(month, seed_endowment_M, starting_cash_K, user_gain_mo_K, fee_storage_gb, gb_user, cost_staff_mo_K, cost_hosting_mo_user, cost_hosting_mo_gb, cost_aquisition_user, rate_endowment_return_yr, rate_storage_decline_yr):\n",
        "    if month==1:\n",
        "        endowment = seed_endowment_M*1000000\n",
        "        cash_balance = starting_cash_K*1000\n",
        "        total_users = 0\n",
        "        \n",
        "        endowment_return = endowment * (rate_endowment_return_yr/12)\n",
        "        income = endowment_return + donations\n",
        "        \n",
        "        app_hosting = cost_hosting_mo_user * total_users\n",
        "        operating_cost = sum(staff, app_hosting, user_aquisition)\n",
        "        storage_cost = ((1-(rate_storage_decline_yr/12))**(i-1)) \\\n",
        "                            * cost_storage_mo_gb * gb_user * total_users\n",
        "        total_expense = operating_cost + storage_cost\n",
        "        net = income - total_expense\n",
        "        \n",
        "        results[str(i)] = {\n",
        "            'month': i,\n",
        "            'endowment_return': endowment_return,\n",
        "            'total_expense': total_expense\n",
        "        }\n",
        "    else:\n",
        "        return getValues(month-1, seed_endowment_M, starting_cash_K, user_gain_mo_K, fee_storage_gb, gb_user, cost_staff_mo_K, cost_hosting_mo_user, cost_hosting_mo_gb, cost_aquisition_user, rate_endowment_return_yr, rate_storage_decline_yr)\n",
        "        \n",
        "# def model(nMonths, seed_endowment_M, starting_cash_K, user_gain_mo_K, fee_storage_gb, gb_user, cost_staff_mo_K, cost_hosting_mo_user, cost_hosting_mo_gb, cost_aquisition_user, rate_endowment_return_yr, rate_storage_decline_yr):\n",
        "#     endowment = seed_endowment_M*1000000\n",
        "#     cash_balance = starting_cash_K*1000\n",
        "#     total_users = 0\n",
        "#     getValues()\n",
        "\ngetValues(3,)"
      ],
      "outputs": [
        {
          "output_type": "error",
          "ename": "NameError",
          "evalue": "name 'cost_staff_mo_K' is not defined",
          "traceback": [
            "\u001b[0;31m---------------------------------------------------------------------------\u001b[0m",
            "\u001b[0;31mNameError\u001b[0m                                 Traceback (most recent call last)",
            "\u001b[0;32m<ipython-input-68-5989b5c1472a>\u001b[0m in \u001b[0;36m<module>\u001b[0;34m()\u001b[0m\n\u001b[0;32m----> 1\u001b[0;31m \u001b[0mstaff\u001b[0m \u001b[0;34m=\u001b[0m \u001b[0mcost_staff_mo_K\u001b[0m\u001b[0;34m*\u001b[0m\u001b[0;36m1000\u001b[0m\u001b[0;34m\u001b[0m\u001b[0m\n\u001b[0m\u001b[1;32m      2\u001b[0m \u001b[0muser_acquisition\u001b[0m \u001b[0;34m=\u001b[0m \u001b[0mcost_aquisition_user\u001b[0m\u001b[0;34m*\u001b[0m\u001b[0muser_gain_mo_K\u001b[0m\u001b[0;34m*\u001b[0m\u001b[0;36m1000\u001b[0m\u001b[0;34m\u001b[0m\u001b[0m\n\u001b[1;32m      3\u001b[0m \u001b[0mdonations\u001b[0m \u001b[0;34m=\u001b[0m \u001b[0;36m0\u001b[0m\u001b[0;34m\u001b[0m\u001b[0m\n\u001b[1;32m      4\u001b[0m \u001b[0mresults\u001b[0m \u001b[0;34m=\u001b[0m \u001b[0;34m{\u001b[0m\u001b[0;34m}\u001b[0m\u001b[0;34m\u001b[0m\u001b[0m\n\u001b[1;32m      5\u001b[0m \u001b[0;34m\u001b[0m\u001b[0m\n",
            "\u001b[0;31mNameError\u001b[0m: name 'cost_staff_mo_K' is not defined"
          ]
        }
      ],
      "execution_count": 68,
      "metadata": {
        "collapsed": false,
        "outputHidden": false,
        "inputHidden": false
      }
    },
    {
      "cell_type": "code",
      "source": [],
      "outputs": [],
      "execution_count": null,
      "metadata": {
        "collapsed": false,
        "outputHidden": false,
        "inputHidden": false
      }
    }
  ],
  "metadata": {
    "kernel_info": {
      "name": "python3"
    },
    "language_info": {
      "name": "python",
      "version": "3.6.4",
      "mimetype": "text/x-python",
      "codemirror_mode": {
        "name": "ipython",
        "version": 3
      },
      "pygments_lexer": "ipython3",
      "nbconvert_exporter": "python",
      "file_extension": ".py"
    },
    "kernelspec": {
      "name": "python3",
      "language": "python",
      "display_name": "Python 3"
    },
    "nteract": {
      "version": "0.11.9"
    }
  },
  "nbformat": 4,
  "nbformat_minor": 4
}